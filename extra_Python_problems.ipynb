{
 "cells": [
  {
   "cell_type": "markdown",
   "metadata": {
    "slideshow": {
     "slide_type": "slide"
    }
   },
   "source": [
    "# Extra Problems for Python - BAN401 \n",
    "\n",
    "**Date**: *September 2018*\n",
    "\n",
    "**By**: *Aksel Stokseth - Nhat Quang Le*"
   ]
  },
  {
   "cell_type": "markdown",
   "metadata": {
    "slideshow": {
     "slide_type": "slide"
    }
   },
   "source": [
    "## Problem 2.1. Fizz Buzz\n",
    "\n",
    "Write a code that prints the numbers from 1 to 100. \n",
    "However, the code should not print the number when it is multiple of three (e.g., 3, 6, 9) but print \"Fizz\" instead. Similarly, when the number is multiple of five (e.g., 5, 10, 15), the code prints \"Buzz\". Finally, for numbers that are multiples of both three and five (e.g., 15, 30), it prints \"FizzBuzz\"."
   ]
  },
  {
   "cell_type": "markdown",
   "metadata": {
    "slideshow": {
     "slide_type": "subslide"
    }
   },
   "source": [
    "### One possible solution:"
   ]
  },
  {
   "cell_type": "code",
   "execution_count": 1,
   "metadata": {
    "slideshow": {
     "slide_type": "fragment"
    }
   },
   "outputs": [
    {
     "name": "stdout",
     "output_type": "stream",
     "text": [
      "1\n",
      "2\n",
      "Fizz\n",
      "4\n",
      "Buzz\n",
      "Fizz\n",
      "7\n",
      "8\n",
      "Fizz\n",
      "Buzz\n",
      "11\n",
      "Fizz\n",
      "13\n",
      "14\n",
      "FizzBuzz\n",
      "16\n",
      "17\n",
      "Fizz\n",
      "19\n",
      "Buzz\n",
      "Fizz\n",
      "22\n",
      "23\n",
      "Fizz\n",
      "Buzz\n",
      "26\n",
      "Fizz\n",
      "28\n",
      "29\n",
      "FizzBuzz\n",
      "31\n",
      "32\n",
      "Fizz\n",
      "34\n",
      "Buzz\n",
      "Fizz\n",
      "37\n",
      "38\n",
      "Fizz\n",
      "Buzz\n",
      "41\n",
      "Fizz\n",
      "43\n",
      "44\n",
      "FizzBuzz\n",
      "46\n",
      "47\n",
      "Fizz\n",
      "49\n",
      "Buzz\n",
      "Fizz\n",
      "52\n",
      "53\n",
      "Fizz\n",
      "Buzz\n",
      "56\n",
      "Fizz\n",
      "58\n",
      "59\n",
      "FizzBuzz\n",
      "61\n",
      "62\n",
      "Fizz\n",
      "64\n",
      "Buzz\n",
      "Fizz\n",
      "67\n",
      "68\n",
      "Fizz\n",
      "Buzz\n",
      "71\n",
      "Fizz\n",
      "73\n",
      "74\n",
      "FizzBuzz\n",
      "76\n",
      "77\n",
      "Fizz\n",
      "79\n",
      "Buzz\n",
      "Fizz\n",
      "82\n",
      "83\n",
      "Fizz\n",
      "Buzz\n",
      "86\n",
      "Fizz\n",
      "88\n",
      "89\n",
      "FizzBuzz\n",
      "91\n",
      "92\n",
      "Fizz\n",
      "94\n",
      "Buzz\n",
      "Fizz\n",
      "97\n",
      "98\n",
      "Fizz\n",
      "Buzz\n"
     ]
    }
   ],
   "source": [
    "for i in range(1, 101): \n",
    "    if(i % 3 == 0):\n",
    "        if(i % 5 == 0): # if i is multiple of both 3 and 5\n",
    "            print(\"FizzBuzz\")\n",
    "        else: # if i is multiple of only 3 (not 5)\n",
    "            print(\"Fizz\")\n",
    "    elif(i % 5 == 0): # if i is multiple of only 5 (not 3)\n",
    "        print(\"Buzz\")\n",
    "    else: # if i is not multiple of either 3 or 5\n",
    "        print(i)"
   ]
  },
  {
   "cell_type": "markdown",
   "metadata": {
    "slideshow": {
     "slide_type": "slide"
    }
   },
   "source": [
    "## Problem 2.2. Reverse a string\n",
    "\n",
    "Write a function that takes a string as its parameter. The function will *reverse* the string and print it out. For example, if the input is **\"Example String\"**. The output should be **\"gnirtS elpmaxE\"**. "
   ]
  },
  {
   "cell_type": "markdown",
   "metadata": {
    "slideshow": {
     "slide_type": "subslide"
    }
   },
   "source": [
    "### A possible solution:"
   ]
  },
  {
   "cell_type": "code",
   "execution_count": 2,
   "metadata": {
    "slideshow": {
     "slide_type": "fragment"
    }
   },
   "outputs": [],
   "source": [
    "def reverse_string(my_string):\n",
    "    reversed_string = \"\" # create an empty object to store the string after reversed\n",
    "    for i in range(len(my_string) - 1, -1, -1): # iterate backward through all elements of the entered string\n",
    "        reversed_string += my_string[i] # add elements of the input string to the empty string above in the backward way\n",
    "    return reversed_string"
   ]
  },
  {
   "cell_type": "code",
   "execution_count": 3,
   "metadata": {
    "slideshow": {
     "slide_type": "subslide"
    }
   },
   "outputs": [
    {
     "data": {
      "text/plain": [
       "'gnirtS elpmaxE'"
      ]
     },
     "execution_count": 3,
     "metadata": {},
     "output_type": "execute_result"
    }
   ],
   "source": [
    "reverse_string(\"Example String\")"
   ]
  },
  {
   "cell_type": "markdown",
   "metadata": {
    "slideshow": {
     "slide_type": "slide"
    }
   },
   "source": [
    "## Problem 2.2. Reverse a string\n",
    "\n",
    "### Another possible solution:"
   ]
  },
  {
   "cell_type": "code",
   "execution_count": 5,
   "metadata": {
    "slideshow": {
     "slide_type": "fragment"
    }
   },
   "outputs": [
    {
     "name": "stdout",
     "output_type": "stream",
     "text": [
      "gnirtS elpmaxE\n"
     ]
    }
   ],
   "source": [
    "def reverse_string(string):\n",
    "    reverse_string = ''\n",
    "    num = len(string) - 1\n",
    "    for i in string:\n",
    "        reverse_string += string[num]\n",
    "        num-=1\n",
    "    return reverse_string\n",
    "\n",
    "print (reverse_string(\"Example String\"))\n"
   ]
  },
  {
   "cell_type": "markdown",
   "metadata": {
    "slideshow": {
     "slide_type": "slide"
    }
   },
   "source": [
    "## Problem 2.3. Count Vowels\n",
    "\n",
    "Write a function that takes a string as a parameter. The function should first *count* the number of vowels in the text and then report the *total number* of vowels count. "
   ]
  },
  {
   "cell_type": "markdown",
   "metadata": {
    "slideshow": {
     "slide_type": "subslide"
    }
   },
   "source": [
    "### A possible solution"
   ]
  },
  {
   "cell_type": "code",
   "execution_count": 6,
   "metadata": {
    "slideshow": {
     "slide_type": "subslide"
    }
   },
   "outputs": [],
   "source": [
    "def count_vowels(my_string):\n",
    "    vowels = [\"a\", \"e\", \"i\", \"o\", \"u\"] # create a list containing all vowels\n",
    "    lower_string = my_string.lower() # convert all characters in my_string to lower case\n",
    "    vowel_count = 0 # used to count number of vowels\n",
    "    for char in lower_string: \n",
    "        if char in vowels: # check each letter in the string to see if it is a vowel\n",
    "            vowel_count += 1 # update the count keeper\n",
    "    return vowel_count"
   ]
  },
  {
   "cell_type": "code",
   "execution_count": 2,
   "metadata": {
    "slideshow": {
     "slide_type": "subslide"
    }
   },
   "outputs": [
    {
     "data": {
      "text/plain": [
       "9"
      ]
     },
     "execution_count": 2,
     "metadata": {},
     "output_type": "execute_result"
    }
   ],
   "source": [
    "count_vowels(\"This is a sentence with vowels\")"
   ]
  },
  {
   "cell_type": "code",
   "execution_count": 3,
   "metadata": {
    "slideshow": {
     "slide_type": "subslide"
    }
   },
   "outputs": [
    {
     "data": {
      "text/plain": [
       "6"
      ]
     },
     "execution_count": 3,
     "metadata": {},
     "output_type": "execute_result"
    }
   ],
   "source": [
    "count_vowels(\"There are 6 vowels\")"
   ]
  },
  {
   "cell_type": "code",
   "execution_count": 1,
   "metadata": {},
   "outputs": [],
   "source": [
    "def count_vowels(my_string):\n",
    "    vowels = [\"a\", \"e\", \"i\", \"o\", \"u\"] # create a list containing all vowels\n",
    "    lower_string = my_string.lower() # convert all characters in my_string to lower case\n",
    "    vowel_count = 0 # used to count number of vowels\n",
    "    for char in lower_string: \n",
    "        if char in vowels: \n",
    "            vowel_count += 1\n",
    "    return vowel_count"
   ]
  }
 ],
 "metadata": {
  "celltoolbar": "Slideshow",
  "kernelspec": {
   "display_name": "Python 3",
   "language": "python",
   "name": "python3"
  },
  "language_info": {
   "codemirror_mode": {
    "name": "ipython",
    "version": 3
   },
   "file_extension": ".py",
   "mimetype": "text/x-python",
   "name": "python",
   "nbconvert_exporter": "python",
   "pygments_lexer": "ipython3",
   "version": "3.6.5"
  }
 },
 "nbformat": 4,
 "nbformat_minor": 2
}
